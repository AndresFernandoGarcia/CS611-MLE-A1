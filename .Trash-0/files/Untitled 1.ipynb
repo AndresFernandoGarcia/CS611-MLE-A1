{
 "cells": [
  {
   "cell_type": "code",
   "execution_count": 1,
   "id": "349fa956-b8b7-43b4-bc0b-905ad796d783",
   "metadata": {},
   "outputs": [],
   "source": [
    "import os\n",
    "import glob\n",
    "import pandas as pd\n",
    "import matplotlib.pyplot as plt\n",
    "import numpy as np\n",
    "import random\n",
    "from datetime import datetime, timedelta\n",
    "from dateutil.relativedelta import relativedelta\n",
    "import pprint\n",
    "import pyspark\n",
    "import pyspark.sql.functions as F\n",
    "import argparse\n",
    "\n",
    "from pyspark.sql.functions import col\n",
    "from pyspark.sql.types import StringType, IntegerType, FloatType, DateType"
   ]
  },
  {
   "cell_type": "code",
   "execution_count": 4,
   "id": "39f14d25-cc75-4b98-a6c3-49cda316a740",
   "metadata": {},
   "outputs": [],
   "source": [
    "def process_silver_table(snapshot_date_str, bronze_lms_directory, silver_loan_daily_directory, spark):\n",
    "    # prepare arguments\n",
    "    snapshot_date = datetime.strptime(snapshot_date_str, \"%Y-%m-%d\")"
   ]
  },
  {
   "cell_type": "code",
   "execution_count": 5,
   "id": "5cde9e90-3e70-4141-9d20-2bbfdc747075",
   "metadata": {},
   "outputs": [],
   "source": []
  },
  {
   "cell_type": "code",
   "execution_count": null,
   "id": "358e77fc-d03d-4fd9-b2d3-2f0a27338e9e",
   "metadata": {},
   "outputs": [],
   "source": []
  }
 ],
 "metadata": {
  "kernelspec": {
   "display_name": "Python 3 (ipykernel)",
   "language": "python",
   "name": "python3"
  },
  "language_info": {
   "codemirror_mode": {
    "name": "ipython",
    "version": 3
   },
   "file_extension": ".py",
   "mimetype": "text/x-python",
   "name": "python",
   "nbconvert_exporter": "python",
   "pygments_lexer": "ipython3",
   "version": "3.12.10"
  }
 },
 "nbformat": 4,
 "nbformat_minor": 5
}
